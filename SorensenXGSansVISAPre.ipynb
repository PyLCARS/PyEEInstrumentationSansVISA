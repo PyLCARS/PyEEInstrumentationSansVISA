{
 "cells": [
  {
   "cell_type": "markdown",
   "metadata": {},
   "source": [
    "\\title{Testing of Sorensen XG LXI Programing without VISA with Python}\n",
    "\\author{Steven K Armour}\n",
    "\\maketitle"
   ]
  },
  {
   "cell_type": "markdown",
   "metadata": {},
   "source": [
    "# Libraries used"
   ]
  },
  {
   "cell_type": "code",
   "execution_count": 1,
   "metadata": {},
   "outputs": [],
   "source": [
    "#Libraries that are needed\n",
    "import socket #library that will do the connection between computer and LXI inst\n",
    "import time #used to pause program to handle non asynchronous actions\n",
    "import matplotlib.pyplot as plt\n",
    "%matplotlib inline\n",
    "import numpy as np\n",
    "import pandas as pd\n",
    "import pickle"
   ]
  },
  {
   "cell_type": "markdown",
   "metadata": {},
   "source": [
    "# Base SCPI lxi program"
   ]
  },
  {
   "cell_type": "code",
   "execution_count": 2,
   "metadata": {
    "code_folding": []
   },
   "outputs": [],
   "source": [
    "class SupplySocket():\n",
    "    \"\"\"\n",
    "    Prototype class for establishing computer to power supply connection via socket \n",
    "    (IP4) programming via the SCPI LXI protocol\n",
    "    \n",
    "    \"\"\"\n",
    "    def __init__(self, SupplyIP, SupplyPort):\n",
    "        \"\"\"\n",
    "        initlizes the class instincince\n",
    "        \n",
    "        Args:\n",
    "            SupplyIP (str): the IP address of the target supply\n",
    "            SupplyPort (str): the socket port on the supply \n",
    "            ex Rigol DS scopes use 5555\n",
    "        \n",
    "        \"\"\"\n",
    "        #bind the IP and Port to the object\n",
    "        self.SupplyIP=SupplyIP; self.SupplyPort=SupplyPort\n",
    "    \n",
    "    def SocketInit(self, TimeOutSec=3.0):\n",
    "        \"\"\"\n",
    "        Method to startup the socket interconnect\n",
    "        \n",
    "        Args:\n",
    "            None\n",
    "            \n",
    "        Note:\n",
    "            good intro to sockets: \n",
    "            http://www.pythonforbeginners.com/code-snippets-source-code/port-scanner-in-python\n",
    "        \"\"\"\n",
    "        # create socket instance in the class that is a streaming IP4\n",
    "        self.s=socket.socket(socket.AF_INET, socket.SOCK_STREAM)\n",
    "        # set socket options\n",
    "        self.s.setsockopt(socket.IPPROTO_TCP, socket.TCP_NODELAY, 0)\n",
    "        \n",
    "        self.s.settimeout(TimeOutSec)\n",
    "\n",
    "        \n",
    "        #make the connection to the scope\n",
    "        self.s.connect((self.SupplyIP, self.SupplyPort))\n",
    "    \n",
    "    def SocketClose(self):\n",
    "        \"\"\"\n",
    "        Method for closeing the socket (IP4) connection\n",
    "        Args:\n",
    "            None\n",
    "        \"\"\"\n",
    "        self.s.close()\n",
    "        print('Scope Socket Closed')\n",
    "    \n",
    "    def Command(self, cmd):\n",
    "        \"\"\"\n",
    "        Convince  Method to pass SCPI commands over the socket such that the \n",
    "        command is auto ended with a '\\n' and is encoded to \n",
    "        Ascii bit and send on the socket connection. Most useful is sending\n",
    "        commands and not quarries \n",
    "        \n",
    "        Args:\n",
    "            cmd (str): SCPI command to be sent needs to be in all caps\n",
    "            example '*RST' will reset the supply; see the manual\n",
    "        \"\"\"\n",
    "        cmd=f'{cmd}\\n'\n",
    "        self.s.sendall(cmd.encode())\n",
    "    \n",
    "    def Responce(self, resBitLen=12):\n",
    "        \"\"\"\n",
    "        Convince Method for reciving the response of a quarry from the supply.\n",
    "        This methods returns the raw retrived bit \n",
    "        \n",
    "        Args:\n",
    "            resBitLen (int): the N in 2^N to specify the returned informtion \n",
    "            package\n",
    "        \n",
    "        Returns:\n",
    "            returns the response information from the supply as is\n",
    "        \"\"\"\n",
    "        return self.s.recv(2**resBitLen)\n",
    "    \n",
    "    def Quarry(self, cmd, resBitLen=16, Ascii=True):\n",
    "        \"\"\"\n",
    "        Convince Method for sending qurry (ask for -> receive) commands that\n",
    "        will send the SCPI commands and automatically get the responce from\n",
    "        the suply and will return the result \n",
    "        \n",
    "        Args:\n",
    "            cmd (str): SCPI command to be sent needs to be in all caps\n",
    "            example '*IDN?' will ask the supply for its IDN number; \n",
    "            see the programing guide\n",
    "            \n",
    "            resBitLen (int): the N in 2^N to specify the returned informtion \n",
    "            package\n",
    "            \n",
    "            Ascii (bool:Default True): if True will try to return the response\n",
    "            from the Quarry as a string assuming \"utf-8\" ascii decoding\n",
    "        \n",
    "        Returns:\n",
    "            str from decoded response if Arg Ascii is True \n",
    "            \n",
    "            raw response of Arg Ascii is False\n",
    "        \n",
    "        \"\"\"\n",
    "        #prep and send command\n",
    "        cmd=f'{cmd}\\n'\n",
    "        self.s.sendall(cmd.encode())\n",
    "        \n",
    "        # get the response\n",
    "        try:\n",
    "            res=self.s.recv(2**resBitLen)\n",
    "        except timeout:\n",
    "            print('Responce Timed out')\n",
    "    \n",
    "        \n",
    "        if Ascii:\n",
    "            # attempt at byte to 'utf-8' decoding\n",
    "            try:\n",
    "                if res.decode('utf-8')=='command error':\n",
    "                    print(f'Command: \"{cmd}\" is invalaid')\n",
    "                else:\n",
    "                    return res\n",
    "            except:\n",
    "                pass\n",
    "        else:\n",
    "            return res\n",
    "            \n",
    "\n",
    "    "
   ]
  },
  {
   "cell_type": "markdown",
   "metadata": {},
   "source": [
    "## Modification for Sorensen issues "
   ]
  },
  {
   "cell_type": "code",
   "execution_count": 3,
   "metadata": {},
   "outputs": [],
   "source": [
    "class SorensenXGSocket(SupplySocket):\n",
    "    pass"
   ]
  },
  {
   "cell_type": "markdown",
   "metadata": {},
   "source": [
    "# Testing\n",
    "The test was done with a Sorenson XG 600V 1.4A half rack DC power supply connected to a 10$\\Omega$ load monitored with a voltmeter connected in parallel to the load. "
   ]
  },
  {
   "cell_type": "markdown",
   "metadata": {},
   "source": [
    "SCPI Command Summary  A-14 pg 306 Rev F of Manual "
   ]
  },
  {
   "cell_type": "markdown",
   "metadata": {},
   "source": [
    "## The Power Supply IP and Port"
   ]
  },
  {
   "cell_type": "code",
   "execution_count": 4,
   "metadata": {},
   "outputs": [],
   "source": [
    "SupplyIP=\"192.168.2.5\"\n",
    "#Supnet:255, 255 0\n",
    "SupplyPort = 5025"
   ]
  },
  {
   "cell_type": "markdown",
   "metadata": {},
   "source": [
    "## Init the connection "
   ]
  },
  {
   "cell_type": "code",
   "execution_count": 5,
   "metadata": {},
   "outputs": [],
   "source": [
    "PS=SorensenXGSocket(SupplyIP, SupplyPort)\n",
    "PS.SocketInit()"
   ]
  },
  {
   "cell_type": "markdown",
   "metadata": {},
   "source": [
    "## Confirm Connection with IDN"
   ]
  },
  {
   "cell_type": "code",
   "execution_count": 6,
   "metadata": {},
   "outputs": [
    {
     "data": {
      "text/plain": [
       "b'AMETEK,XG 600-1.4, SN# 1729A'"
      ]
     },
     "execution_count": 6,
     "metadata": {},
     "output_type": "execute_result"
    }
   ],
   "source": [
    "PS.Quarry('*IDN?', 32)"
   ]
  },
  {
   "cell_type": "markdown",
   "metadata": {},
   "source": [
    "IDN was returned incomplete, rerunning"
   ]
  },
  {
   "cell_type": "code",
   "execution_count": 7,
   "metadata": {},
   "outputs": [
    {
     "data": {
      "text/plain": [
       "b'00455, 3.01,11/06/14; ENET 06.50\\r'"
      ]
     },
     "execution_count": 7,
     "metadata": {},
     "output_type": "execute_result"
    }
   ],
   "source": [
    "PS.Quarry('*IDN?', 32)"
   ]
  },
  {
   "cell_type": "markdown",
   "metadata": {},
   "source": [
    " again bad response "
   ]
  },
  {
   "cell_type": "code",
   "execution_count": 13,
   "metadata": {},
   "outputs": [
    {
     "data": {
      "text/plain": [
       "b'AMETEK,XG 600-1.4, SN# 1729A00455, 3.01,11/06/14; ENET 06.50\\r'"
      ]
     },
     "execution_count": 13,
     "metadata": {},
     "output_type": "execute_result"
    }
   ],
   "source": [
    "PS.Quarry('*IDN?', 32)"
   ]
  },
  {
   "cell_type": "markdown",
   "metadata": {},
   "source": [
    "there appears to be an issue with buffer clearing. Need to find a way to clear the buffer before and after queries"
   ]
  },
  {
   "cell_type": "markdown",
   "metadata": {},
   "source": [
    "## Trying to see if calling statues byte will solve above issue\n",
    "See page 164 in Rev F manual"
   ]
  },
  {
   "cell_type": "code",
   "execution_count": 14,
   "metadata": {},
   "outputs": [
    {
     "data": {
      "text/plain": [
       "b'AMETEK,XG 600-1.4, SN# 1729A00455, 3.01,11/06/14; ENET 06.50\\r'"
      ]
     },
     "execution_count": 14,
     "metadata": {},
     "output_type": "execute_result"
    }
   ],
   "source": [
    "PS.Quarry('*STB?')"
   ]
  },
  {
   "cell_type": "markdown",
   "metadata": {},
   "source": [
    "Nope"
   ]
  },
  {
   "cell_type": "code",
   "execution_count": 15,
   "metadata": {},
   "outputs": [
    {
     "data": {
      "text/plain": [
       "b'4\\r'"
      ]
     },
     "execution_count": 15,
     "metadata": {},
     "output_type": "execute_result"
    }
   ],
   "source": [
    "PS.Quarry('*STB?')"
   ]
  },
  {
   "cell_type": "markdown",
   "metadata": {},
   "source": [
    "The second call yielded good response see table 5-10\n",
    "will have to look into as means of dealing with the redundant/past response to new queries "
   ]
  },
  {
   "cell_type": "markdown",
   "metadata": {},
   "source": [
    "## Trying Setting output voltage and current \n",
    "for understanding of how setting the voltage and current effect the output of the supply see Automatic Mode Crossover pg 59 and Fig 3-3 on pg 59"
   ]
  },
  {
   "cell_type": "code",
   "execution_count": 22,
   "metadata": {},
   "outputs": [],
   "source": [
    "PS.Command(':VOLT 10.0')"
   ]
  },
  {
   "cell_type": "code",
   "execution_count": 17,
   "metadata": {},
   "outputs": [],
   "source": [
    "PS.Command(':CURR 1.4')"
   ]
  },
  {
   "cell_type": "markdown",
   "metadata": {},
   "source": [
    "that worked"
   ]
  },
  {
   "cell_type": "markdown",
   "metadata": {},
   "source": [
    "## Trying turning on and off the power to the load"
   ]
  },
  {
   "cell_type": "code",
   "execution_count": 18,
   "metadata": {},
   "outputs": [],
   "source": [
    "PS.Command(':OUTP ON')"
   ]
  },
  {
   "cell_type": "code",
   "execution_count": 19,
   "metadata": {},
   "outputs": [],
   "source": [
    "PS.Command(':OUTP OFF')"
   ]
  },
  {
   "cell_type": "code",
   "execution_count": 20,
   "metadata": {},
   "outputs": [],
   "source": [
    "PS.Command(':OUTP ON')"
   ]
  },
  {
   "cell_type": "markdown",
   "metadata": {},
   "source": [
    "that worked"
   ]
  },
  {
   "cell_type": "markdown",
   "metadata": {},
   "source": [
    "## Get DC Supplies internal voltage and current readings"
   ]
  },
  {
   "cell_type": "code",
   "execution_count": 23,
   "metadata": {},
   "outputs": [
    {
     "data": {
      "text/plain": [
       "b'4\\r'"
      ]
     },
     "execution_count": 23,
     "metadata": {},
     "output_type": "execute_result"
    }
   ],
   "source": [
    "PS.Quarry('MEAS:VOLT?')"
   ]
  },
  {
   "cell_type": "markdown",
   "metadata": {},
   "source": [
    "past result issue"
   ]
  },
  {
   "cell_type": "code",
   "execution_count": 24,
   "metadata": {},
   "outputs": [
    {
     "data": {
      "text/plain": [
       "b'10.00903\\r'"
      ]
     },
     "execution_count": 24,
     "metadata": {},
     "output_type": "execute_result"
    }
   ],
   "source": [
    "PS.Quarry('MEAS:VOLT?')"
   ]
  },
  {
   "cell_type": "markdown",
   "metadata": {},
   "source": [
    "now gives correct output voltage confirmed by the parallel multimeter"
   ]
  },
  {
   "cell_type": "code",
   "execution_count": 25,
   "metadata": {},
   "outputs": [
    {
     "data": {
      "text/plain": [
       "b'10.00903\\r'"
      ]
     },
     "execution_count": 25,
     "metadata": {},
     "output_type": "execute_result"
    }
   ],
   "source": [
    "PS.Quarry(':MEAS:CURR?')"
   ]
  },
  {
   "cell_type": "markdown",
   "metadata": {},
   "source": [
    "past result issue"
   ]
  },
  {
   "cell_type": "code",
   "execution_count": 27,
   "metadata": {},
   "outputs": [
    {
     "data": {
      "text/plain": [
       "b'0.99824\\r'"
      ]
     },
     "execution_count": 27,
     "metadata": {},
     "output_type": "execute_result"
    }
   ],
   "source": [
    "PS.Quarry(':MEAS:CURR?')"
   ]
  },
  {
   "cell_type": "markdown",
   "metadata": {},
   "source": [
    "now gives correct current"
   ]
  },
  {
   "cell_type": "markdown",
   "metadata": {},
   "source": [
    "# Results"
   ]
  },
  {
   "cell_type": "markdown",
   "metadata": {},
   "source": [
    "These test indicated that the Sorensen XG DC power supply is easy to control with some issues with quarries. The Quarry issue will have to we resolved either through a specialty quarry check sequence; some unknown command to the socket to clear that socket connection register or some command to the power supply that clears its transmission buffer. Besides that issue using Python and Socket program proved rather easy and viable to control and shows that the need for LapView or a VISA program is overrated. "
   ]
  },
  {
   "cell_type": "code",
   "execution_count": null,
   "metadata": {},
   "outputs": [],
   "source": []
  }
 ],
 "metadata": {
  "author": "Testing of Sorensen XG LXI Programing without VISA with Python",
  "kernelspec": {
   "display_name": "Python 3",
   "language": "python",
   "name": "python3"
  },
  "language_info": {
   "codemirror_mode": {
    "name": "ipython",
    "version": 3
   },
   "file_extension": ".py",
   "mimetype": "text/x-python",
   "name": "python",
   "nbconvert_exporter": "python",
   "pygments_lexer": "ipython3",
   "version": "3.6.4"
  },
  "latex_envs": {
   "LaTeX_envs_menu_present": true,
   "autocomplete": true,
   "bibliofile": "biblio.bib",
   "cite_by": "apalike",
   "current_citInitial": 1,
   "eqLabelWithNumbers": true,
   "eqNumInitial": 1,
   "hotkeys": {
    "equation": "Ctrl-E",
    "itemize": "Ctrl-I"
   },
   "labels_anchors": false,
   "latex_user_defs": false,
   "report_style_numbering": false,
   "user_envs_cfg": false
  },
  "toc": {
   "nav_menu": {},
   "number_sections": true,
   "sideBar": true,
   "skip_h1_title": false,
   "title_cell": "Table of Contents",
   "title_sidebar": "Contents",
   "toc_cell": false,
   "toc_position": {},
   "toc_section_display": true,
   "toc_window_display": false
  }
 },
 "nbformat": 4,
 "nbformat_minor": 2
}
